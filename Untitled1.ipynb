{
 "cells": [
  {
   "cell_type": "code",
   "execution_count": 2,
   "metadata": {},
   "outputs": [
    {
     "name": "stdout",
     "output_type": "stream",
     "text": [
      "Traceback (most recent call last):\r\n",
      "  File \"wayBackMachineUrls.py\", line 58, in <module>\r\n",
      "    main(filename,year)\r\n",
      "  File \"wayBackMachineUrls.py\", line 24, in main\r\n",
      "    webbyUrls=pd.read_csv(filename)\r\n",
      "  File \"/usr/local/lib/python3.6/site-packages/pandas/io/parsers.py\", line 678, in parser_f\r\n",
      "    return _read(filepath_or_buffer, kwds)\r\n",
      "  File \"/usr/local/lib/python3.6/site-packages/pandas/io/parsers.py\", line 446, in _read\r\n",
      "    data = parser.read(nrows)\r\n",
      "  File \"/usr/local/lib/python3.6/site-packages/pandas/io/parsers.py\", line 1036, in read\r\n",
      "    ret = self._engine.read(nrows)\r\n",
      "  File \"/usr/local/lib/python3.6/site-packages/pandas/io/parsers.py\", line 1848, in read\r\n",
      "    data = self._reader.read(nrows)\r\n",
      "  File \"pandas/_libs/parsers.pyx\", line 876, in pandas._libs.parsers.TextReader.read\r\n",
      "  File \"pandas/_libs/parsers.pyx\", line 891, in pandas._libs.parsers.TextReader._read_low_memory\r\n",
      "  File \"pandas/_libs/parsers.pyx\", line 945, in pandas._libs.parsers.TextReader._read_rows\r\n",
      "  File \"pandas/_libs/parsers.pyx\", line 932, in pandas._libs.parsers.TextReader._tokenize_rows\r\n",
      "  File \"pandas/_libs/parsers.pyx\", line 2112, in pandas._libs.parsers.raise_parser_error\r\n",
      "pandas.errors.ParserError: Error tokenizing data. C error: Expected 1 fields in line 210, saw 8\r\n",
      "\r\n"
     ]
    }
   ],
   "source": [
    "!python3 wayBackMachineUrls.py 2018 yearUrlWebby/WebbyUrl2018.csv\n"
   ]
  },
  {
   "cell_type": "code",
   "execution_count": null,
   "metadata": {},
   "outputs": [],
   "source": []
  }
 ],
 "metadata": {
  "kernelspec": {
   "display_name": "Python 3",
   "language": "python",
   "name": "python3"
  },
  "language_info": {
   "codemirror_mode": {
    "name": "ipython",
    "version": 3
   },
   "file_extension": ".py",
   "mimetype": "text/x-python",
   "name": "python",
   "nbconvert_exporter": "python",
   "pygments_lexer": "ipython3",
   "version": "3.6.1"
  }
 },
 "nbformat": 4,
 "nbformat_minor": 2
}
