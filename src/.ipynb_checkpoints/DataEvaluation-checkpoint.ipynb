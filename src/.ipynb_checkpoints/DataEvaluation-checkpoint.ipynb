{
 "cells": [
  {
   "cell_type": "code",
   "execution_count": 95,
   "metadata": {},
   "outputs": [],
   "source": [
    "import pandas as pd\n",
    "import numpy as np\n",
    "import matplotlib.pyplot as plt "
   ]
  },
  {
   "cell_type": "code",
   "execution_count": 96,
   "metadata": {},
   "outputs": [],
   "source": [
    "df={}\n",
    "for year in range(2000,2020):\n",
    "    df[str(year)]=pd.read_csv('yearMetrics/tempMpUrlMetrics'+str(year)+'.csv')"
   ]
  },
  {
   "cell_type": "code",
   "execution_count": 97,
   "metadata": {},
   "outputs": [],
   "source": [
    "mean=np.zeros((20,13))\n",
    "std=np.zeros((20,13))\n",
    "for year in range(2000,2020):\n",
    "    try:\n",
    "        df[str(year)].drop(['slno','url'],1,inplace=True)\n",
    "    except:\n",
    "        pass\n",
    "    try:\n",
    "        yearMean=np.mean(df[str(year)].values,axis=0)\n",
    "        yearStd=np.std(df[str(year)].values,axis=0)\n",
    "    except:\n",
    "        print(year)\n",
    "    #print(yearMean)\n",
    "    #print(res[year-2000])\n",
    "    mean[year-2000]=yearMean\n",
    "    std[year-2000]=yearStd"
   ]
  },
  {
   "cell_type": "code",
   "execution_count": 98,
   "metadata": {},
   "outputs": [
    {
     "data": {
      "text/plain": [
       "array([[4.34976290e+02, 2.13090593e-01, 2.76298610e+01, 1.89823755e-01,\n",
       "        6.43769221e+01, 6.11508911e+01, 1.48505838e+02, 8.34825268e+00,\n",
       "        3.55884139e+01, 2.68851245e+00, 9.49118774e-02, 2.75100889e+01,\n",
       "        5.29604309e+02],\n",
       "       [3.87048127e+02, 1.58834453e-01, 1.99096257e+01, 1.29080900e-01,\n",
       "        9.98188092e+01, 5.01870875e+01, 1.54633637e+02, 1.15851427e+01,\n",
       "        6.29612882e+01, 2.77108277e+00, 2.22931296e-01, 1.98798522e+01,\n",
       "        5.07608057e+02],\n",
       "       [6.25818352e+02, 1.04439887e-01, 3.04362162e+01, 8.80424037e-02,\n",
       "        1.14549629e+02, 1.96319621e+02, 9.43255876e+01, 1.02759248e+01,\n",
       "        8.12349652e+01, 3.04250488e+00, 2.14239206e-01, 2.03480738e+01,\n",
       "        5.46051844e+02],\n",
       "       [4.33198813e+02, 2.74407703e-01, 1.77226780e+01, 1.81065308e-01,\n",
       "        9.37136486e+01, 4.76165357e+01, 1.14784106e+02, 1.07055496e+01,\n",
       "        5.88131912e+01, 2.79751761e+00, 2.20213431e-01, 1.75204281e+01,\n",
       "        4.63926340e+02],\n",
       "       [8.64489543e+02, 1.48478883e-01, 1.81735861e+01, 4.61805033e-01,\n",
       "        9.79093104e+01, 1.10567280e+02, 1.28994171e+02, 8.45667247e+00,\n",
       "        7.46917945e+01, 3.59625577e+00, 1.04319887e+00, 2.66770380e+01,\n",
       "        5.06067992e+02],\n",
       "       [6.13021057e+02, 6.70517766e-02, 1.87289607e+01, 4.76291446e-01,\n",
       "        9.90175575e+01, 7.29127672e+01, 2.67725114e+02, 1.36939969e+01,\n",
       "        6.58809910e+01, 3.66567641e+00, 5.95054298e-01, 2.31600839e+01,\n",
       "        4.84954278e+02],\n",
       "       [8.04504005e+02, 1.07927641e-01, 1.19308876e+01, 8.89900394e-01,\n",
       "        9.83284082e+01, 8.39028384e+01, 2.29099621e+02, 1.10329585e+01,\n",
       "        6.02529260e+01, 3.84068469e+00, 9.43971611e-01, 2.08177394e+01,\n",
       "        5.72412648e+02],\n",
       "       [7.12756194e+02, 8.78717704e-02, 1.25783140e+01, 5.76741086e-01,\n",
       "        8.17684865e+01, 1.36360035e+02, 2.49405783e+02, 1.14332548e+01,\n",
       "        4.42440970e+01, 4.46242346e+00, 4.99296452e-01, 2.32564735e+01,\n",
       "        6.55661149e+02],\n",
       "       [1.05855804e+03, 1.52067547e-01, 7.42292696e+00, 1.46804335e+00,\n",
       "        7.11228845e+01, 1.21192812e+02, 3.48750845e+02, 1.05749415e+01,\n",
       "        4.63080152e+01, 4.63467934e+00, 7.51659489e-01, 2.02361382e+01,\n",
       "        5.91443698e+02],\n",
       "       [1.00404173e+03, 1.66351933e-01, 1.61237663e+01, 1.72959110e+00,\n",
       "        1.03548244e+02, 1.45736721e+02, 4.88031957e+02, 9.65043743e+00,\n",
       "        7.18738848e+01, 4.74165291e+00, 6.10911826e-01, 2.07306404e+01,\n",
       "        6.56852200e+02],\n",
       "       [9.60878338e+02, 2.31748860e-01, 1.20754835e+01, 7.37606879e-01,\n",
       "        6.85145202e+01, 1.63155135e+02, 6.55642488e+02, 1.19803287e+01,\n",
       "        5.55443220e+01, 4.27879104e+00, 6.72193980e-01, 1.98917176e+01,\n",
       "        6.69623907e+02],\n",
       "       [9.14373669e+02, 3.69719681e-01, 1.65149717e+01, 9.11075656e-01,\n",
       "        1.18490000e+02, 1.93852138e+02, 8.53317349e+02, 1.03407748e+01,\n",
       "        5.58113384e+01, 4.65537749e+00, 7.79199947e-01, 2.03881070e+01,\n",
       "        6.13520058e+02],\n",
       "       [1.01148276e+03, 2.14965121e-01, 1.56020773e+01, 5.24738690e-01,\n",
       "        4.71642123e+01, 2.50126577e+02, 1.58361958e+03, 1.09742810e+01,\n",
       "        8.65052850e+01, 4.59555657e+00, 9.17237814e-01, 2.05263559e+01,\n",
       "        6.12731513e+02],\n",
       "       [8.08389418e+02, 2.17420733e+00, 1.93689338e+01, 1.03177904e+00,\n",
       "        6.20185958e+01, 1.94673346e+02, 1.61201679e+03, 1.03329297e+01,\n",
       "        7.26921620e+01, 4.44249590e+00, 3.66348488e-01, 2.32810399e+01,\n",
       "        5.99599338e+02],\n",
       "       [1.11302951e+03, 2.59492363e+00, 2.12824170e+01, 1.11310806e+00,\n",
       "        7.08586873e+01, 1.18636464e+02, 2.76166800e+03, 1.54442183e+01,\n",
       "        6.26094400e+01, 4.52044907e+00, 6.08252113e-01, 2.36861894e+01,\n",
       "        5.86366196e+02],\n",
       "       [6.75220935e+02, 1.10258345e+00, 2.33843289e+01, 1.29544864e+00,\n",
       "        4.58557609e+01, 1.21726441e+02, 2.74859016e+03, 1.30530076e+01,\n",
       "        4.89055471e+01, 4.54488946e+00, 4.65723360e-01, 2.57520754e+01,\n",
       "        5.90200365e+02],\n",
       "       [2.16464325e+03, 8.10812248e-01, 2.96283036e+01, 8.22127470e-01,\n",
       "        1.08671723e+02, 1.15652209e+02, 5.25742072e+03, 1.66109027e+01,\n",
       "        5.06253543e+01, 4.95805268e+00, 6.19205197e-01, 2.80689424e+01,\n",
       "        6.33949298e+02],\n",
       "       [8.75478441e+02, 1.20760285e+00, 2.21085246e+01, 2.65158414e+00,\n",
       "        4.44274672e+01, 1.24642438e+02, 4.84730840e+03, 1.82516309e+01,\n",
       "        5.18677853e+01, 4.36498407e+00, 2.55684590e+00, 2.68872195e+01,\n",
       "        5.76628964e+02],\n",
       "       [7.40548720e+02, 8.74283875e-01, 2.44792036e+01, 3.69286472e+00,\n",
       "        3.16337217e+01, 1.49660392e+02, 6.25069121e+03, 2.05670858e+01,\n",
       "        4.28449744e+01, 4.40477921e+00, 6.62151628e-01, 2.89256733e+01,\n",
       "        5.66193275e+02],\n",
       "       [1.99770065e+03, 6.17090239e-01, 2.67413422e+01, 1.66701382e+00,\n",
       "        6.01737461e+01, 1.18907236e+02, 6.33638582e+03, 2.32452457e+01,\n",
       "        5.29516059e+01, 4.31322576e+00, 4.56207408e-01, 2.64391637e+01,\n",
       "        5.88035408e+02]])"
      ]
     },
     "execution_count": 98,
     "metadata": {},
     "output_type": "execute_result"
    }
   ],
   "source": [
    "std"
   ]
  },
  {
   "cell_type": "code",
   "execution_count": 99,
   "metadata": {},
   "outputs": [],
   "source": [
    "ym=np.mean(df[str(2000)].values,axis=0)"
   ]
  },
  {
   "cell_type": "code",
   "execution_count": 111,
   "metadata": {},
   "outputs": [
    {
     "ename": "AttributeError",
     "evalue": "Unknown property step",
     "output_type": "error",
     "traceback": [
      "\u001b[0;31m---------------------------------------------------------------------------\u001b[0m",
      "\u001b[0;31mAttributeError\u001b[0m                            Traceback (most recent call last)",
      "\u001b[0;32m<ipython-input-111-db13b48823d0>\u001b[0m in \u001b[0;36m<module>\u001b[0;34m\u001b[0m\n\u001b[1;32m      3\u001b[0m     \u001b[0my\u001b[0m\u001b[0;34m=\u001b[0m\u001b[0mmean\u001b[0m\u001b[0;34m[\u001b[0m\u001b[0;34m:\u001b[0m\u001b[0;34m,\u001b[0m\u001b[0mi\u001b[0m\u001b[0;34m]\u001b[0m\u001b[0;34m\u001b[0m\u001b[0m\n\u001b[1;32m      4\u001b[0m     \u001b[0me\u001b[0m\u001b[0;34m=\u001b[0m\u001b[0mstd\u001b[0m\u001b[0;34m[\u001b[0m\u001b[0;34m:\u001b[0m\u001b[0;34m,\u001b[0m\u001b[0mi\u001b[0m\u001b[0;34m]\u001b[0m\u001b[0;34m\u001b[0m\u001b[0m\n\u001b[0;32m----> 5\u001b[0;31m     \u001b[0mplt\u001b[0m\u001b[0;34m.\u001b[0m\u001b[0merrorbar\u001b[0m\u001b[0;34m(\u001b[0m\u001b[0mx\u001b[0m\u001b[0;34m,\u001b[0m \u001b[0my\u001b[0m\u001b[0;34m,\u001b[0m \u001b[0me\u001b[0m\u001b[0;34m,\u001b[0m \u001b[0mfmt\u001b[0m\u001b[0;34m=\u001b[0m\u001b[0;34m'-o'\u001b[0m\u001b[0;34m,\u001b[0m\u001b[0mstep\u001b[0m\u001b[0;34m=\u001b[0m\u001b[0;32mTrue\u001b[0m\u001b[0;34m)\u001b[0m\u001b[0;34m\u001b[0m\u001b[0m\n\u001b[0m\u001b[1;32m      6\u001b[0m     \u001b[0;31m#print(df['2002'].columns[i])\u001b[0m\u001b[0;34m\u001b[0m\u001b[0;34m\u001b[0m\u001b[0m\n\u001b[1;32m      7\u001b[0m     \u001b[0mplt\u001b[0m\u001b[0;34m.\u001b[0m\u001b[0mshow\u001b[0m\u001b[0;34m(\u001b[0m\u001b[0;34m)\u001b[0m\u001b[0;34m\u001b[0m\u001b[0m\n",
      "\u001b[0;32m/usr/local/lib/python3.6/site-packages/matplotlib/pyplot.py\u001b[0m in \u001b[0;36merrorbar\u001b[0;34m(x, y, yerr, xerr, fmt, ecolor, elinewidth, capsize, barsabove, lolims, uplims, xlolims, xuplims, errorevery, capthick, data, **kwargs)\u001b[0m\n\u001b[1;32m   2577\u001b[0m         \u001b[0mlolims\u001b[0m\u001b[0;34m=\u001b[0m\u001b[0mlolims\u001b[0m\u001b[0;34m,\u001b[0m \u001b[0muplims\u001b[0m\u001b[0;34m=\u001b[0m\u001b[0muplims\u001b[0m\u001b[0;34m,\u001b[0m \u001b[0mxlolims\u001b[0m\u001b[0;34m=\u001b[0m\u001b[0mxlolims\u001b[0m\u001b[0;34m,\u001b[0m\u001b[0;34m\u001b[0m\u001b[0m\n\u001b[1;32m   2578\u001b[0m         \u001b[0mxuplims\u001b[0m\u001b[0;34m=\u001b[0m\u001b[0mxuplims\u001b[0m\u001b[0;34m,\u001b[0m \u001b[0merrorevery\u001b[0m\u001b[0;34m=\u001b[0m\u001b[0merrorevery\u001b[0m\u001b[0;34m,\u001b[0m \u001b[0mcapthick\u001b[0m\u001b[0;34m=\u001b[0m\u001b[0mcapthick\u001b[0m\u001b[0;34m,\u001b[0m\u001b[0;34m\u001b[0m\u001b[0m\n\u001b[0;32m-> 2579\u001b[0;31m         **({\"data\": data} if data is not None else {}), **kwargs)\n\u001b[0m\u001b[1;32m   2580\u001b[0m \u001b[0;34m\u001b[0m\u001b[0m\n\u001b[1;32m   2581\u001b[0m \u001b[0;34m\u001b[0m\u001b[0m\n",
      "\u001b[0;32m/usr/local/lib/python3.6/site-packages/matplotlib/__init__.py\u001b[0m in \u001b[0;36minner\u001b[0;34m(ax, data, *args, **kwargs)\u001b[0m\n\u001b[1;32m   1808\u001b[0m                         \u001b[0;34m\"the Matplotlib list!)\"\u001b[0m \u001b[0;34m%\u001b[0m \u001b[0;34m(\u001b[0m\u001b[0mlabel_namer\u001b[0m\u001b[0;34m,\u001b[0m \u001b[0mfunc\u001b[0m\u001b[0;34m.\u001b[0m\u001b[0m__name__\u001b[0m\u001b[0;34m)\u001b[0m\u001b[0;34m,\u001b[0m\u001b[0;34m\u001b[0m\u001b[0m\n\u001b[1;32m   1809\u001b[0m                         RuntimeWarning, stacklevel=2)\n\u001b[0;32m-> 1810\u001b[0;31m             \u001b[0;32mreturn\u001b[0m \u001b[0mfunc\u001b[0m\u001b[0;34m(\u001b[0m\u001b[0max\u001b[0m\u001b[0;34m,\u001b[0m \u001b[0;34m*\u001b[0m\u001b[0margs\u001b[0m\u001b[0;34m,\u001b[0m \u001b[0;34m**\u001b[0m\u001b[0mkwargs\u001b[0m\u001b[0;34m)\u001b[0m\u001b[0;34m\u001b[0m\u001b[0m\n\u001b[0m\u001b[1;32m   1811\u001b[0m \u001b[0;34m\u001b[0m\u001b[0m\n\u001b[1;32m   1812\u001b[0m         inner.__doc__ = _add_data_doc(inner.__doc__,\n",
      "\u001b[0;32m/usr/local/lib/python3.6/site-packages/matplotlib/axes/_axes.py\u001b[0m in \u001b[0;36merrorbar\u001b[0;34m(self, x, y, yerr, xerr, fmt, ecolor, elinewidth, capsize, barsabove, lolims, uplims, xlolims, xuplims, errorevery, capthick, **kwargs)\u001b[0m\n\u001b[1;32m   3140\u001b[0m         \u001b[0mdata_line\u001b[0m \u001b[0;34m=\u001b[0m \u001b[0;32mNone\u001b[0m\u001b[0;34m\u001b[0m\u001b[0m\n\u001b[1;32m   3141\u001b[0m         \u001b[0;32mif\u001b[0m \u001b[0mplot_line\u001b[0m\u001b[0;34m:\u001b[0m\u001b[0;34m\u001b[0m\u001b[0m\n\u001b[0;32m-> 3142\u001b[0;31m             \u001b[0mdata_line\u001b[0m \u001b[0;34m=\u001b[0m \u001b[0mmlines\u001b[0m\u001b[0;34m.\u001b[0m\u001b[0mLine2D\u001b[0m\u001b[0;34m(\u001b[0m\u001b[0mx\u001b[0m\u001b[0;34m,\u001b[0m \u001b[0my\u001b[0m\u001b[0;34m,\u001b[0m \u001b[0;34m**\u001b[0m\u001b[0mplot_line_style\u001b[0m\u001b[0;34m)\u001b[0m\u001b[0;34m\u001b[0m\u001b[0m\n\u001b[0m\u001b[1;32m   3143\u001b[0m             \u001b[0mself\u001b[0m\u001b[0;34m.\u001b[0m\u001b[0madd_line\u001b[0m\u001b[0;34m(\u001b[0m\u001b[0mdata_line\u001b[0m\u001b[0;34m)\u001b[0m\u001b[0;34m\u001b[0m\u001b[0m\n\u001b[1;32m   3144\u001b[0m \u001b[0;34m\u001b[0m\u001b[0m\n",
      "\u001b[0;32m/usr/local/lib/python3.6/site-packages/matplotlib/lines.py\u001b[0m in \u001b[0;36m__init__\u001b[0;34m(self, xdata, ydata, linewidth, linestyle, color, marker, markersize, markeredgewidth, markeredgecolor, markerfacecolor, markerfacecoloralt, fillstyle, antialiased, dash_capstyle, solid_capstyle, dash_joinstyle, solid_joinstyle, pickradius, drawstyle, markevery, **kwargs)\u001b[0m\n\u001b[1;32m    408\u001b[0m         \u001b[0;31m# update kwargs before updating data to give the caller a\u001b[0m\u001b[0;34m\u001b[0m\u001b[0;34m\u001b[0m\u001b[0m\n\u001b[1;32m    409\u001b[0m         \u001b[0;31m# chance to init axes (and hence unit support)\u001b[0m\u001b[0;34m\u001b[0m\u001b[0;34m\u001b[0m\u001b[0m\n\u001b[0;32m--> 410\u001b[0;31m         \u001b[0mself\u001b[0m\u001b[0;34m.\u001b[0m\u001b[0mupdate\u001b[0m\u001b[0;34m(\u001b[0m\u001b[0mkwargs\u001b[0m\u001b[0;34m)\u001b[0m\u001b[0;34m\u001b[0m\u001b[0m\n\u001b[0m\u001b[1;32m    411\u001b[0m         \u001b[0mself\u001b[0m\u001b[0;34m.\u001b[0m\u001b[0mpickradius\u001b[0m \u001b[0;34m=\u001b[0m \u001b[0mpickradius\u001b[0m\u001b[0;34m\u001b[0m\u001b[0m\n\u001b[1;32m    412\u001b[0m         \u001b[0mself\u001b[0m\u001b[0;34m.\u001b[0m\u001b[0mind_offset\u001b[0m \u001b[0;34m=\u001b[0m \u001b[0;36m0\u001b[0m\u001b[0;34m\u001b[0m\u001b[0m\n",
      "\u001b[0;32m/usr/local/lib/python3.6/site-packages/matplotlib/artist.py\u001b[0m in \u001b[0;36mupdate\u001b[0;34m(self, props)\u001b[0m\n\u001b[1;32m    914\u001b[0m \u001b[0;34m\u001b[0m\u001b[0m\n\u001b[1;32m    915\u001b[0m         \u001b[0;32mwith\u001b[0m \u001b[0mcbook\u001b[0m\u001b[0;34m.\u001b[0m\u001b[0m_setattr_cm\u001b[0m\u001b[0;34m(\u001b[0m\u001b[0mself\u001b[0m\u001b[0;34m,\u001b[0m \u001b[0meventson\u001b[0m\u001b[0;34m=\u001b[0m\u001b[0;32mFalse\u001b[0m\u001b[0;34m)\u001b[0m\u001b[0;34m:\u001b[0m\u001b[0;34m\u001b[0m\u001b[0m\n\u001b[0;32m--> 916\u001b[0;31m             \u001b[0mret\u001b[0m \u001b[0;34m=\u001b[0m \u001b[0;34m[\u001b[0m\u001b[0m_update_property\u001b[0m\u001b[0;34m(\u001b[0m\u001b[0mself\u001b[0m\u001b[0;34m,\u001b[0m \u001b[0mk\u001b[0m\u001b[0;34m,\u001b[0m \u001b[0mv\u001b[0m\u001b[0;34m)\u001b[0m \u001b[0;32mfor\u001b[0m \u001b[0mk\u001b[0m\u001b[0;34m,\u001b[0m \u001b[0mv\u001b[0m \u001b[0;32min\u001b[0m \u001b[0mprops\u001b[0m\u001b[0;34m.\u001b[0m\u001b[0mitems\u001b[0m\u001b[0;34m(\u001b[0m\u001b[0;34m)\u001b[0m\u001b[0;34m]\u001b[0m\u001b[0;34m\u001b[0m\u001b[0m\n\u001b[0m\u001b[1;32m    917\u001b[0m \u001b[0;34m\u001b[0m\u001b[0m\n\u001b[1;32m    918\u001b[0m         \u001b[0;32mif\u001b[0m \u001b[0mlen\u001b[0m\u001b[0;34m(\u001b[0m\u001b[0mret\u001b[0m\u001b[0;34m)\u001b[0m\u001b[0;34m:\u001b[0m\u001b[0;34m\u001b[0m\u001b[0m\n",
      "\u001b[0;32m/usr/local/lib/python3.6/site-packages/matplotlib/artist.py\u001b[0m in \u001b[0;36m<listcomp>\u001b[0;34m(.0)\u001b[0m\n\u001b[1;32m    914\u001b[0m \u001b[0;34m\u001b[0m\u001b[0m\n\u001b[1;32m    915\u001b[0m         \u001b[0;32mwith\u001b[0m \u001b[0mcbook\u001b[0m\u001b[0;34m.\u001b[0m\u001b[0m_setattr_cm\u001b[0m\u001b[0;34m(\u001b[0m\u001b[0mself\u001b[0m\u001b[0;34m,\u001b[0m \u001b[0meventson\u001b[0m\u001b[0;34m=\u001b[0m\u001b[0;32mFalse\u001b[0m\u001b[0;34m)\u001b[0m\u001b[0;34m:\u001b[0m\u001b[0;34m\u001b[0m\u001b[0m\n\u001b[0;32m--> 916\u001b[0;31m             \u001b[0mret\u001b[0m \u001b[0;34m=\u001b[0m \u001b[0;34m[\u001b[0m\u001b[0m_update_property\u001b[0m\u001b[0;34m(\u001b[0m\u001b[0mself\u001b[0m\u001b[0;34m,\u001b[0m \u001b[0mk\u001b[0m\u001b[0;34m,\u001b[0m \u001b[0mv\u001b[0m\u001b[0;34m)\u001b[0m \u001b[0;32mfor\u001b[0m \u001b[0mk\u001b[0m\u001b[0;34m,\u001b[0m \u001b[0mv\u001b[0m \u001b[0;32min\u001b[0m \u001b[0mprops\u001b[0m\u001b[0;34m.\u001b[0m\u001b[0mitems\u001b[0m\u001b[0;34m(\u001b[0m\u001b[0;34m)\u001b[0m\u001b[0;34m]\u001b[0m\u001b[0;34m\u001b[0m\u001b[0m\n\u001b[0m\u001b[1;32m    917\u001b[0m \u001b[0;34m\u001b[0m\u001b[0m\n\u001b[1;32m    918\u001b[0m         \u001b[0;32mif\u001b[0m \u001b[0mlen\u001b[0m\u001b[0;34m(\u001b[0m\u001b[0mret\u001b[0m\u001b[0;34m)\u001b[0m\u001b[0;34m:\u001b[0m\u001b[0;34m\u001b[0m\u001b[0m\n",
      "\u001b[0;32m/usr/local/lib/python3.6/site-packages/matplotlib/artist.py\u001b[0m in \u001b[0;36m_update_property\u001b[0;34m(self, k, v)\u001b[0m\n\u001b[1;32m    910\u001b[0m                 \u001b[0mfunc\u001b[0m \u001b[0;34m=\u001b[0m \u001b[0mgetattr\u001b[0m\u001b[0;34m(\u001b[0m\u001b[0mself\u001b[0m\u001b[0;34m,\u001b[0m \u001b[0;34m'set_'\u001b[0m \u001b[0;34m+\u001b[0m \u001b[0mk\u001b[0m\u001b[0;34m,\u001b[0m \u001b[0;32mNone\u001b[0m\u001b[0;34m)\u001b[0m\u001b[0;34m\u001b[0m\u001b[0m\n\u001b[1;32m    911\u001b[0m                 \u001b[0;32mif\u001b[0m \u001b[0;32mnot\u001b[0m \u001b[0mcallable\u001b[0m\u001b[0;34m(\u001b[0m\u001b[0mfunc\u001b[0m\u001b[0;34m)\u001b[0m\u001b[0;34m:\u001b[0m\u001b[0;34m\u001b[0m\u001b[0m\n\u001b[0;32m--> 912\u001b[0;31m                     \u001b[0;32mraise\u001b[0m \u001b[0mAttributeError\u001b[0m\u001b[0;34m(\u001b[0m\u001b[0;34m'Unknown property %s'\u001b[0m \u001b[0;34m%\u001b[0m \u001b[0mk\u001b[0m\u001b[0;34m)\u001b[0m\u001b[0;34m\u001b[0m\u001b[0m\n\u001b[0m\u001b[1;32m    913\u001b[0m                 \u001b[0;32mreturn\u001b[0m \u001b[0mfunc\u001b[0m\u001b[0;34m(\u001b[0m\u001b[0mv\u001b[0m\u001b[0;34m)\u001b[0m\u001b[0;34m\u001b[0m\u001b[0m\n\u001b[1;32m    914\u001b[0m \u001b[0;34m\u001b[0m\u001b[0m\n",
      "\u001b[0;31mAttributeError\u001b[0m: Unknown property step"
     ]
    },
    {
     "data": {
      "image/png": "[encoded data removed]",
      "text/plain": [
       "<Figure size 432x288 with 1 Axes>"
      ]
     },
     "metadata": {
      "needs_background": "light"
     },
     "output_type": "display_data"
    }
   ],
   "source": [
    "x=range(2000,2020)\n",
    "for i in range(13):\n",
    "    y=mean[:,i]\n",
    "    e=std[:,i]\n",
    "    plt.errorbar(x, y, e, fmt='-o')\n",
    "    #print(df['2002'].columns[i])\n",
    "    plt.show()"
   ]
  },
  {
   "cell_type": "code",
   "execution_count": 101,
   "metadata": {},
   "outputs": [
    {
     "data": {
      "text/plain": [
       "(array([ 148.50583797,  154.63363709,   94.32558757,  114.7841059 ,\n",
       "         128.99417078,  267.72511357,  229.0996206 ,  249.40578334,\n",
       "         348.75084456,  488.03195667,  655.64248822,  853.31734899,\n",
       "        1583.61957553, 1612.01679099, 2761.66800294, 2748.59015585,\n",
       "        5257.42071516, 4847.30839978, 6250.6912087 , 6336.38581536]),\n",
       " array([ 148.49900568,  160.19055383,  174.55125427,  185.934877  ,\n",
       "         211.14198405,  255.71155612,  260.92523218,  299.86352909,\n",
       "         352.29588896,  490.06973095,  593.10119501,  885.86308178,\n",
       "        1365.5323088 , 1847.93534469, 2462.94352151, 2771.18255615,\n",
       "        3652.42927526, 3926.57877197, 4523.95441166, 4742.47237939]))"
      ]
     },
     "execution_count": 101,
     "metadata": {},
     "output_type": "execute_result"
    }
   ],
   "source": [
    "std[:,6],mean[:,6]"
   ]
  },
  {
   "cell_type": "code",
   "execution_count": null,
   "metadata": {},
   "outputs": [],
   "source": []
  }
 ],
 "metadata": {
  "kernelspec": {
   "display_name": "Python 3",
   "language": "python",
   "name": "python3"
  },
  "language_info": {
   "codemirror_mode": {
    "name": "ipython",
    "version": 3
   },
   "file_extension": ".py",
   "mimetype": "text/x-python",
   "name": "python",
   "nbconvert_exporter": "python",
   "pygments_lexer": "ipython3",
   "version": "3.6.1"
  }
 },
 "nbformat": 4,
 "nbformat_minor": 2
}
